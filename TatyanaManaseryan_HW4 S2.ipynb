{
 "cells": [
  {
   "cell_type": "code",
   "execution_count": 5,
   "id": "b1df4eeb",
   "metadata": {},
   "outputs": [
    {
     "name": "stdout",
     "output_type": "stream",
     "text": [
      "Requirement already satisfied: quandl in /opt/anaconda3/lib/python3.8/site-packages (3.6.1)\r\n",
      "Requirement already satisfied: inflection>=0.3.1 in /opt/anaconda3/lib/python3.8/site-packages (from quandl) (0.5.1)\r\n",
      "Requirement already satisfied: six in /opt/anaconda3/lib/python3.8/site-packages (from quandl) (1.15.0)\r\n",
      "Requirement already satisfied: numpy>=1.8 in /opt/anaconda3/lib/python3.8/site-packages (from quandl) (1.20.1)\r\n",
      "Requirement already satisfied: requests>=2.7.0 in /opt/anaconda3/lib/python3.8/site-packages (from quandl) (2.25.1)\r\n",
      "Requirement already satisfied: more-itertools in /opt/anaconda3/lib/python3.8/site-packages (from quandl) (8.7.0)\r\n",
      "Requirement already satisfied: pandas>=0.14 in /opt/anaconda3/lib/python3.8/site-packages (from quandl) (1.2.4)\r\n",
      "Requirement already satisfied: python-dateutil in /opt/anaconda3/lib/python3.8/site-packages (from quandl) (2.8.1)\r\n",
      "Requirement already satisfied: pytz>=2017.3 in /opt/anaconda3/lib/python3.8/site-packages (from pandas>=0.14->quandl) (2021.1)\r\n",
      "Requirement already satisfied: certifi>=2017.4.17 in /opt/anaconda3/lib/python3.8/site-packages (from requests>=2.7.0->quandl) (2020.12.5)\r\n",
      "Requirement already satisfied: chardet<5,>=3.0.2 in /opt/anaconda3/lib/python3.8/site-packages (from requests>=2.7.0->quandl) (4.0.0)\r\n",
      "Requirement already satisfied: urllib3<1.27,>=1.21.1 in /opt/anaconda3/lib/python3.8/site-packages (from requests>=2.7.0->quandl) (1.26.4)\r\n",
      "Requirement already satisfied: idna<3,>=2.5 in /opt/anaconda3/lib/python3.8/site-packages (from requests>=2.7.0->quandl) (2.10)\r\n"
     ]
    }
   ],
   "source": [
    "!pip install quandl\n"
   ]
  },
  {
   "cell_type": "code",
   "execution_count": 6,
   "id": "e926e18e",
   "metadata": {},
   "outputs": [
    {
     "name": "stdout",
     "output_type": "stream",
     "text": [
      "Requirement already satisfied: plotly in /opt/anaconda3/lib/python3.8/site-packages (5.1.0)\r\n",
      "Requirement already satisfied: six in /opt/anaconda3/lib/python3.8/site-packages (from plotly) (1.15.0)\r\n",
      "Requirement already satisfied: tenacity>=6.2.0 in /opt/anaconda3/lib/python3.8/site-packages (from plotly) (8.0.1)\r\n"
     ]
    }
   ],
   "source": [
    "!pip install plotly"
   ]
  },
  {
   "cell_type": "code",
   "execution_count": 7,
   "id": "0909fe2d",
   "metadata": {},
   "outputs": [
    {
     "name": "stdout",
     "output_type": "stream",
     "text": [
      "Requirement already satisfied: pandas_datareader in /opt/anaconda3/lib/python3.8/site-packages (0.10.0)\n",
      "Requirement already satisfied: lxml in /opt/anaconda3/lib/python3.8/site-packages (from pandas_datareader) (4.6.3)\n",
      "Requirement already satisfied: pandas>=0.23 in /opt/anaconda3/lib/python3.8/site-packages (from pandas_datareader) (1.2.4)\n",
      "Requirement already satisfied: requests>=2.19.0 in /opt/anaconda3/lib/python3.8/site-packages (from pandas_datareader) (2.25.1)\n",
      "Requirement already satisfied: python-dateutil>=2.7.3 in /opt/anaconda3/lib/python3.8/site-packages (from pandas>=0.23->pandas_datareader) (2.8.1)\n",
      "Requirement already satisfied: pytz>=2017.3 in /opt/anaconda3/lib/python3.8/site-packages (from pandas>=0.23->pandas_datareader) (2021.1)\n",
      "Requirement already satisfied: numpy>=1.16.5 in /opt/anaconda3/lib/python3.8/site-packages (from pandas>=0.23->pandas_datareader) (1.20.1)\n",
      "Requirement already satisfied: six>=1.5 in /opt/anaconda3/lib/python3.8/site-packages (from python-dateutil>=2.7.3->pandas>=0.23->pandas_datareader) (1.15.0)\n",
      "Requirement already satisfied: certifi>=2017.4.17 in /opt/anaconda3/lib/python3.8/site-packages (from requests>=2.19.0->pandas_datareader) (2020.12.5)\n",
      "Requirement already satisfied: urllib3<1.27,>=1.21.1 in /opt/anaconda3/lib/python3.8/site-packages (from requests>=2.19.0->pandas_datareader) (1.26.4)\n",
      "Requirement already satisfied: chardet<5,>=3.0.2 in /opt/anaconda3/lib/python3.8/site-packages (from requests>=2.19.0->pandas_datareader) (4.0.0)\n",
      "Requirement already satisfied: idna<3,>=2.5 in /opt/anaconda3/lib/python3.8/site-packages (from requests>=2.19.0->pandas_datareader) (2.10)\n"
     ]
    }
   ],
   "source": [
    "!pip install pandas_datareader"
   ]
  },
  {
   "cell_type": "code",
   "execution_count": 11,
   "id": "08bf0bb8",
   "metadata": {},
   "outputs": [
    {
     "data": {
      "text/html": [
       "        <script type=\"text/javascript\">\n",
       "        window.PlotlyConfig = {MathJaxConfig: 'local'};\n",
       "        if (window.MathJax) {MathJax.Hub.Config({SVG: {font: \"STIX-Web\"}});}\n",
       "        if (typeof require !== 'undefined') {\n",
       "        require.undef(\"plotly\");\n",
       "        requirejs.config({\n",
       "            paths: {\n",
       "                'plotly': ['https://cdn.plot.ly/plotly-2.2.0.min']\n",
       "            }\n",
       "        });\n",
       "        require(['plotly'], function(Plotly) {\n",
       "            window._Plotly = Plotly;\n",
       "        });\n",
       "        }\n",
       "        </script>\n",
       "        "
      ]
     },
     "metadata": {},
     "output_type": "display_data"
    }
   ],
   "source": [
    "import pandas as pd #for reading and working with data\n",
    "import matplotlib.pyplot as plt #for visuals\n",
    "import seaborn as sns #for visuals\n",
    "import numpy as np #for doing math/stat calculations, working with arrays\n",
    "\n",
    "import quandl #for downloading data from Quandl website\n",
    "from pandas_datareader import data #for downloading data from Yahoo Finance website\n",
    "\n",
    "##plotly is for interactive plotting\n",
    "from plotly.offline import iplot\n",
    "from plotly.offline import init_notebook_mode\n",
    "import plotly.graph_objects as go #the basic charts that we will use are mainly stored under graph_objs\n",
    "init_notebook_mode(connected=True) #if we want the charts to be displayed in JN\n"
   ]
  },
  {
   "cell_type": "markdown",
   "id": "14cf5d2a",
   "metadata": {},
   "source": [
    "## Problem 1"
   ]
  },
  {
   "cell_type": "code",
   "execution_count": 13,
   "id": "fd76d9ea",
   "metadata": {},
   "outputs": [],
   "source": [
    "data_salary=pd.read_csv('salary.csv')"
   ]
  },
  {
   "cell_type": "code",
   "execution_count": 14,
   "id": "142a35f2",
   "metadata": {},
   "outputs": [
    {
     "data": {
      "text/html": [
       "<div>\n",
       "<style scoped>\n",
       "    .dataframe tbody tr th:only-of-type {\n",
       "        vertical-align: middle;\n",
       "    }\n",
       "\n",
       "    .dataframe tbody tr th {\n",
       "        vertical-align: top;\n",
       "    }\n",
       "\n",
       "    .dataframe thead th {\n",
       "        text-align: right;\n",
       "    }\n",
       "</style>\n",
       "<table border=\"1\" class=\"dataframe\">\n",
       "  <thead>\n",
       "    <tr style=\"text-align: right;\">\n",
       "      <th></th>\n",
       "      <th>age</th>\n",
       "      <th>workclass</th>\n",
       "      <th>fnlwgt</th>\n",
       "      <th>education</th>\n",
       "      <th>education.num</th>\n",
       "      <th>marital.status</th>\n",
       "      <th>occupation</th>\n",
       "      <th>relationship</th>\n",
       "      <th>race</th>\n",
       "      <th>Geder</th>\n",
       "      <th>capital.gain</th>\n",
       "      <th>capital.loss</th>\n",
       "      <th>hours.per.week</th>\n",
       "      <th>native.country</th>\n",
       "      <th>income</th>\n",
       "    </tr>\n",
       "  </thead>\n",
       "  <tbody>\n",
       "    <tr>\n",
       "      <th>0</th>\n",
       "      <td>90</td>\n",
       "      <td>?</td>\n",
       "      <td>77053</td>\n",
       "      <td>HS-grad</td>\n",
       "      <td>NaN</td>\n",
       "      <td>Widowed</td>\n",
       "      <td>NaN</td>\n",
       "      <td>Not-in-family</td>\n",
       "      <td>White</td>\n",
       "      <td>Female</td>\n",
       "      <td>NaN</td>\n",
       "      <td>4356.0</td>\n",
       "      <td>40.0</td>\n",
       "      <td>United-States</td>\n",
       "      <td>&lt;=50K</td>\n",
       "    </tr>\n",
       "    <tr>\n",
       "      <th>1</th>\n",
       "      <td>82</td>\n",
       "      <td>Private</td>\n",
       "      <td>132870</td>\n",
       "      <td>HS-grad</td>\n",
       "      <td>NaN</td>\n",
       "      <td>Widowed</td>\n",
       "      <td>Exec-managerial</td>\n",
       "      <td>Not-in-family</td>\n",
       "      <td>White</td>\n",
       "      <td>Female</td>\n",
       "      <td>NaN</td>\n",
       "      <td>4356.0</td>\n",
       "      <td>18.0</td>\n",
       "      <td>United-States</td>\n",
       "      <td>&lt;=50K</td>\n",
       "    </tr>\n",
       "    <tr>\n",
       "      <th>2</th>\n",
       "      <td>66</td>\n",
       "      <td>?</td>\n",
       "      <td>186061</td>\n",
       "      <td>Some-college</td>\n",
       "      <td>10.0</td>\n",
       "      <td>Widowed</td>\n",
       "      <td>NaN</td>\n",
       "      <td>Unmarried</td>\n",
       "      <td>Black</td>\n",
       "      <td>Female</td>\n",
       "      <td>NaN</td>\n",
       "      <td>4356.0</td>\n",
       "      <td>40.0</td>\n",
       "      <td>United-States</td>\n",
       "      <td>&lt;=50K</td>\n",
       "    </tr>\n",
       "    <tr>\n",
       "      <th>3</th>\n",
       "      <td>54</td>\n",
       "      <td>Private</td>\n",
       "      <td>140359</td>\n",
       "      <td>7th-8th</td>\n",
       "      <td>NaN</td>\n",
       "      <td>Divorced</td>\n",
       "      <td>Machine-op-inspct</td>\n",
       "      <td>Unmarried</td>\n",
       "      <td>White</td>\n",
       "      <td>Female</td>\n",
       "      <td>NaN</td>\n",
       "      <td>3900.0</td>\n",
       "      <td>40.0</td>\n",
       "      <td>United-States</td>\n",
       "      <td>&lt;=50K</td>\n",
       "    </tr>\n",
       "    <tr>\n",
       "      <th>4</th>\n",
       "      <td>41</td>\n",
       "      <td>Private</td>\n",
       "      <td>264663</td>\n",
       "      <td>Some-college</td>\n",
       "      <td>10.0</td>\n",
       "      <td>Separated</td>\n",
       "      <td>Prof-specialty</td>\n",
       "      <td>Own-child</td>\n",
       "      <td>White</td>\n",
       "      <td>Female</td>\n",
       "      <td>NaN</td>\n",
       "      <td>3900.0</td>\n",
       "      <td>40.0</td>\n",
       "      <td>United-States</td>\n",
       "      <td>&lt;=50K</td>\n",
       "    </tr>\n",
       "  </tbody>\n",
       "</table>\n",
       "</div>"
      ],
      "text/plain": [
       "   age workclass  fnlwgt     education  education.num marital.status  \\\n",
       "0   90         ?   77053       HS-grad            NaN        Widowed   \n",
       "1   82   Private  132870       HS-grad            NaN        Widowed   \n",
       "2   66         ?  186061  Some-college           10.0        Widowed   \n",
       "3   54   Private  140359       7th-8th            NaN       Divorced   \n",
       "4   41   Private  264663  Some-college           10.0      Separated   \n",
       "\n",
       "          occupation   relationship   race   Geder  capital.gain  \\\n",
       "0                NaN  Not-in-family  White  Female           NaN   \n",
       "1    Exec-managerial  Not-in-family  White  Female           NaN   \n",
       "2                NaN      Unmarried  Black  Female           NaN   \n",
       "3  Machine-op-inspct      Unmarried  White  Female           NaN   \n",
       "4     Prof-specialty      Own-child  White  Female           NaN   \n",
       "\n",
       "   capital.loss  hours.per.week native.country income  \n",
       "0        4356.0            40.0  United-States  <=50K  \n",
       "1        4356.0            18.0  United-States  <=50K  \n",
       "2        4356.0            40.0  United-States  <=50K  \n",
       "3        3900.0            40.0  United-States  <=50K  \n",
       "4        3900.0            40.0  United-States  <=50K  "
      ]
     },
     "execution_count": 14,
     "metadata": {},
     "output_type": "execute_result"
    }
   ],
   "source": [
    "data_salary.head()"
   ]
  },
  {
   "cell_type": "markdown",
   "id": "38f7efa0",
   "metadata": {},
   "source": [
    "## Problem 2 "
   ]
  },
  {
   "cell_type": "code",
   "execution_count": 15,
   "id": "5c656c6a",
   "metadata": {},
   "outputs": [
    {
     "data": {
      "text/plain": [
       "(32561, 15)"
      ]
     },
     "execution_count": 15,
     "metadata": {},
     "output_type": "execute_result"
    }
   ],
   "source": [
    "data_salary.shape"
   ]
  },
  {
   "cell_type": "markdown",
   "id": "e6cdd682",
   "metadata": {},
   "source": [
    "There are 32561 rows and 15 columns"
   ]
  },
  {
   "cell_type": "code",
   "execution_count": 19,
   "id": "d053df73",
   "metadata": {},
   "outputs": [
    {
     "data": {
      "text/plain": [
       "age                   0\n",
       "workclass             0\n",
       "fnlwgt                0\n",
       "education             0\n",
       "education.num     14754\n",
       "marital.status        0\n",
       "occupation         1843\n",
       "relationship          0\n",
       "race                  0\n",
       "Geder                 0\n",
       "capital.gain      29849\n",
       "capital.loss      31042\n",
       "hours.per.week      458\n",
       "native.country      583\n",
       "income                0\n",
       "dtype: int64"
      ]
     },
     "execution_count": 19,
     "metadata": {},
     "output_type": "execute_result"
    }
   ],
   "source": [
    "data_salary.isnull().sum()"
   ]
  },
  {
   "cell_type": "markdown",
   "id": "cece35dd",
   "metadata": {},
   "source": [
    "**Interpretation: education.num has 14754 missing values, occupation 1843, capital.gain 29849, capital.loss 31042, hour.per.week 458 and native.country 583 missing values**"
   ]
  },
  {
   "cell_type": "markdown",
   "id": "34847825",
   "metadata": {},
   "source": [
    "## Problem 4"
   ]
  },
  {
   "cell_type": "code",
   "execution_count": 21,
   "id": "b077fc0d",
   "metadata": {},
   "outputs": [],
   "source": [
    "data_salary['workclass']=data_salary['workclass'].replace(['?'],'NA')"
   ]
  },
  {
   "cell_type": "code",
   "execution_count": 22,
   "id": "123b8b6d",
   "metadata": {},
   "outputs": [
    {
     "data": {
      "text/html": [
       "<div>\n",
       "<style scoped>\n",
       "    .dataframe tbody tr th:only-of-type {\n",
       "        vertical-align: middle;\n",
       "    }\n",
       "\n",
       "    .dataframe tbody tr th {\n",
       "        vertical-align: top;\n",
       "    }\n",
       "\n",
       "    .dataframe thead th {\n",
       "        text-align: right;\n",
       "    }\n",
       "</style>\n",
       "<table border=\"1\" class=\"dataframe\">\n",
       "  <thead>\n",
       "    <tr style=\"text-align: right;\">\n",
       "      <th></th>\n",
       "      <th>age</th>\n",
       "      <th>workclass</th>\n",
       "      <th>fnlwgt</th>\n",
       "      <th>education</th>\n",
       "      <th>education.num</th>\n",
       "      <th>marital.status</th>\n",
       "      <th>occupation</th>\n",
       "      <th>relationship</th>\n",
       "      <th>race</th>\n",
       "      <th>Geder</th>\n",
       "      <th>capital.gain</th>\n",
       "      <th>capital.loss</th>\n",
       "      <th>hours.per.week</th>\n",
       "      <th>native.country</th>\n",
       "      <th>income</th>\n",
       "    </tr>\n",
       "  </thead>\n",
       "  <tbody>\n",
       "    <tr>\n",
       "      <th>0</th>\n",
       "      <td>90</td>\n",
       "      <td>NA</td>\n",
       "      <td>77053</td>\n",
       "      <td>HS-grad</td>\n",
       "      <td>NaN</td>\n",
       "      <td>Widowed</td>\n",
       "      <td>NaN</td>\n",
       "      <td>Not-in-family</td>\n",
       "      <td>White</td>\n",
       "      <td>Female</td>\n",
       "      <td>NaN</td>\n",
       "      <td>4356.0</td>\n",
       "      <td>40.0</td>\n",
       "      <td>United-States</td>\n",
       "      <td>&lt;=50K</td>\n",
       "    </tr>\n",
       "    <tr>\n",
       "      <th>1</th>\n",
       "      <td>82</td>\n",
       "      <td>Private</td>\n",
       "      <td>132870</td>\n",
       "      <td>HS-grad</td>\n",
       "      <td>NaN</td>\n",
       "      <td>Widowed</td>\n",
       "      <td>Exec-managerial</td>\n",
       "      <td>Not-in-family</td>\n",
       "      <td>White</td>\n",
       "      <td>Female</td>\n",
       "      <td>NaN</td>\n",
       "      <td>4356.0</td>\n",
       "      <td>18.0</td>\n",
       "      <td>United-States</td>\n",
       "      <td>&lt;=50K</td>\n",
       "    </tr>\n",
       "    <tr>\n",
       "      <th>2</th>\n",
       "      <td>66</td>\n",
       "      <td>NA</td>\n",
       "      <td>186061</td>\n",
       "      <td>Some-college</td>\n",
       "      <td>10.0</td>\n",
       "      <td>Widowed</td>\n",
       "      <td>NaN</td>\n",
       "      <td>Unmarried</td>\n",
       "      <td>Black</td>\n",
       "      <td>Female</td>\n",
       "      <td>NaN</td>\n",
       "      <td>4356.0</td>\n",
       "      <td>40.0</td>\n",
       "      <td>United-States</td>\n",
       "      <td>&lt;=50K</td>\n",
       "    </tr>\n",
       "    <tr>\n",
       "      <th>3</th>\n",
       "      <td>54</td>\n",
       "      <td>Private</td>\n",
       "      <td>140359</td>\n",
       "      <td>7th-8th</td>\n",
       "      <td>NaN</td>\n",
       "      <td>Divorced</td>\n",
       "      <td>Machine-op-inspct</td>\n",
       "      <td>Unmarried</td>\n",
       "      <td>White</td>\n",
       "      <td>Female</td>\n",
       "      <td>NaN</td>\n",
       "      <td>3900.0</td>\n",
       "      <td>40.0</td>\n",
       "      <td>United-States</td>\n",
       "      <td>&lt;=50K</td>\n",
       "    </tr>\n",
       "    <tr>\n",
       "      <th>4</th>\n",
       "      <td>41</td>\n",
       "      <td>Private</td>\n",
       "      <td>264663</td>\n",
       "      <td>Some-college</td>\n",
       "      <td>10.0</td>\n",
       "      <td>Separated</td>\n",
       "      <td>Prof-specialty</td>\n",
       "      <td>Own-child</td>\n",
       "      <td>White</td>\n",
       "      <td>Female</td>\n",
       "      <td>NaN</td>\n",
       "      <td>3900.0</td>\n",
       "      <td>40.0</td>\n",
       "      <td>United-States</td>\n",
       "      <td>&lt;=50K</td>\n",
       "    </tr>\n",
       "  </tbody>\n",
       "</table>\n",
       "</div>"
      ],
      "text/plain": [
       "   age workclass  fnlwgt     education  education.num marital.status  \\\n",
       "0   90        NA   77053       HS-grad            NaN        Widowed   \n",
       "1   82   Private  132870       HS-grad            NaN        Widowed   \n",
       "2   66        NA  186061  Some-college           10.0        Widowed   \n",
       "3   54   Private  140359       7th-8th            NaN       Divorced   \n",
       "4   41   Private  264663  Some-college           10.0      Separated   \n",
       "\n",
       "          occupation   relationship   race   Geder  capital.gain  \\\n",
       "0                NaN  Not-in-family  White  Female           NaN   \n",
       "1    Exec-managerial  Not-in-family  White  Female           NaN   \n",
       "2                NaN      Unmarried  Black  Female           NaN   \n",
       "3  Machine-op-inspct      Unmarried  White  Female           NaN   \n",
       "4     Prof-specialty      Own-child  White  Female           NaN   \n",
       "\n",
       "   capital.loss  hours.per.week native.country income  \n",
       "0        4356.0            40.0  United-States  <=50K  \n",
       "1        4356.0            18.0  United-States  <=50K  \n",
       "2        4356.0            40.0  United-States  <=50K  \n",
       "3        3900.0            40.0  United-States  <=50K  \n",
       "4        3900.0            40.0  United-States  <=50K  "
      ]
     },
     "execution_count": 22,
     "metadata": {},
     "output_type": "execute_result"
    }
   ],
   "source": [
    "data_salary.head()"
   ]
  },
  {
   "cell_type": "code",
   "execution_count": 26,
   "id": "fc12cfd1",
   "metadata": {},
   "outputs": [],
   "source": [
    "data_salary.drop(columns=['education.num'],axis=1,inplace=True)\n",
    "data_salary.drop(columns=['occupation'],axis=1,inplace=True)\n",
    "data_salary.drop(columns=['capital.gain'],axis=1,inplace=True)\n",
    "data_salary.drop(columns=['capital.loss'],axis=1,inplace=True)"
   ]
  },
  {
   "cell_type": "code",
   "execution_count": 27,
   "id": "12aca767",
   "metadata": {},
   "outputs": [
    {
     "data": {
      "text/plain": [
       "Index(['age', 'workclass', 'fnlwgt', 'marital.status', 'relationship', 'race',\n",
       "       'Geder', 'hours.per.week', 'native.country', 'income'],\n",
       "      dtype='object')"
      ]
     },
     "execution_count": 27,
     "metadata": {},
     "output_type": "execute_result"
    }
   ],
   "source": [
    "data_salary.columns"
   ]
  },
  {
   "cell_type": "code",
   "execution_count": 28,
   "id": "8601fdba",
   "metadata": {},
   "outputs": [],
   "source": [
    "data_salary.dropna(inplace=True)"
   ]
  },
  {
   "cell_type": "code",
   "execution_count": 29,
   "id": "78cbf991",
   "metadata": {},
   "outputs": [
    {
     "data": {
      "text/plain": [
       "(31527, 10)"
      ]
     },
     "execution_count": 29,
     "metadata": {},
     "output_type": "execute_result"
    }
   ],
   "source": [
    "data_salary.shape"
   ]
  },
  {
   "cell_type": "markdown",
   "id": "9138ef0e",
   "metadata": {},
   "source": [
    "**This data without the missing values has 10 columns and 31527 rows**"
   ]
  },
  {
   "cell_type": "markdown",
   "id": "d4c67f42",
   "metadata": {},
   "source": [
    "## Problem 5"
   ]
  },
  {
   "cell_type": "code",
   "execution_count": 30,
   "id": "7cc803dd",
   "metadata": {},
   "outputs": [],
   "source": [
    "data_salary['marital.status']=data_salary['marital.status'].replace(['.'],'_')"
   ]
  },
  {
   "cell_type": "code",
   "execution_count": 35,
   "id": "1eaa15c5",
   "metadata": {},
   "outputs": [],
   "source": [
    "data_numeric=data_numeric=data_salary.select_dtypes(exclude='object')\n"
   ]
  },
  {
   "cell_type": "markdown",
   "id": "45adedb4",
   "metadata": {},
   "source": [
    "## Problem 6"
   ]
  },
  {
   "cell_type": "code",
   "execution_count": 33,
   "id": "ff031902",
   "metadata": {},
   "outputs": [
    {
     "data": {
      "text/html": [
       "<div>\n",
       "<style scoped>\n",
       "    .dataframe tbody tr th:only-of-type {\n",
       "        vertical-align: middle;\n",
       "    }\n",
       "\n",
       "    .dataframe tbody tr th {\n",
       "        vertical-align: top;\n",
       "    }\n",
       "\n",
       "    .dataframe thead th {\n",
       "        text-align: right;\n",
       "    }\n",
       "</style>\n",
       "<table border=\"1\" class=\"dataframe\">\n",
       "  <thead>\n",
       "    <tr style=\"text-align: right;\">\n",
       "      <th></th>\n",
       "      <th>age</th>\n",
       "      <th>fnlwgt</th>\n",
       "      <th>hours.per.week</th>\n",
       "    </tr>\n",
       "  </thead>\n",
       "  <tbody>\n",
       "    <tr>\n",
       "      <th>age</th>\n",
       "      <td>1.000000</td>\n",
       "      <td>-0.077234</td>\n",
       "      <td>0.103418</td>\n",
       "    </tr>\n",
       "    <tr>\n",
       "      <th>fnlwgt</th>\n",
       "      <td>-0.077234</td>\n",
       "      <td>1.000000</td>\n",
       "      <td>-0.023476</td>\n",
       "    </tr>\n",
       "    <tr>\n",
       "      <th>hours.per.week</th>\n",
       "      <td>0.103418</td>\n",
       "      <td>-0.023476</td>\n",
       "      <td>1.000000</td>\n",
       "    </tr>\n",
       "  </tbody>\n",
       "</table>\n",
       "</div>"
      ],
      "text/plain": [
       "                     age    fnlwgt  hours.per.week\n",
       "age             1.000000 -0.077234        0.103418\n",
       "fnlwgt         -0.077234  1.000000       -0.023476\n",
       "hours.per.week  0.103418 -0.023476        1.000000"
      ]
     },
     "execution_count": 33,
     "metadata": {},
     "output_type": "execute_result"
    }
   ],
   "source": [
    "data_numeric.corr()"
   ]
  },
  {
   "cell_type": "code",
   "execution_count": 34,
   "id": "99a681c6",
   "metadata": {},
   "outputs": [
    {
     "data": {
      "image/png": "[encoded data removed]",
      "text/plain": [
       "<Figure size 432x288 with 2 Axes>"
      ]
     },
     "metadata": {
      "needs_background": "light"
     },
     "output_type": "display_data"
    }
   ],
   "source": [
    "sns.heatmap(data_numeric.corr().round(2) #corr table\n",
    "           ,annot=True #to show corr values on the cells on the chart below\n",
    "           )\n",
    "\n",
    "plt.show()"
   ]
  },
  {
   "cell_type": "markdown",
   "id": "84803d28",
   "metadata": {},
   "source": [
    "## Problem 7"
   ]
  },
  {
   "cell_type": "code",
   "execution_count": 37,
   "id": "c99d5e71",
   "metadata": {},
   "outputs": [
    {
     "data": {
      "text/plain": [
       "38.45196181051163"
      ]
     },
     "execution_count": 37,
     "metadata": {},
     "output_type": "execute_result"
    }
   ],
   "source": [
    "data_numeric.age.mean()"
   ]
  },
  {
   "cell_type": "code",
   "execution_count": 38,
   "id": "ee09b91e",
   "metadata": {},
   "outputs": [
    {
     "data": {
      "text/plain": [
       "37.0"
      ]
     },
     "execution_count": 38,
     "metadata": {},
     "output_type": "execute_result"
    }
   ],
   "source": [
    "data_numeric.age.median()"
   ]
  },
  {
   "cell_type": "code",
   "execution_count": 39,
   "id": "d14a121a",
   "metadata": {},
   "outputs": [
    {
     "data": {
      "text/plain": [
       "17"
      ]
     },
     "execution_count": 39,
     "metadata": {},
     "output_type": "execute_result"
    }
   ],
   "source": [
    "data_numeric.age.min()"
   ]
  },
  {
   "cell_type": "code",
   "execution_count": 40,
   "id": "8b1c4869",
   "metadata": {},
   "outputs": [
    {
     "data": {
      "text/plain": [
       "90"
      ]
     },
     "execution_count": 40,
     "metadata": {},
     "output_type": "execute_result"
    }
   ],
   "source": [
    "data_numeric.age.max()"
   ]
  },
  {
   "cell_type": "code",
   "execution_count": 41,
   "id": "7a6a3b79",
   "metadata": {},
   "outputs": [
    {
     "data": {
      "text/plain": [
       "13.457003406740395"
      ]
     },
     "execution_count": 41,
     "metadata": {},
     "output_type": "execute_result"
    }
   ],
   "source": [
    "data_numeric.age.std()"
   ]
  },
  {
   "cell_type": "markdown",
   "id": "1416b912",
   "metadata": {},
   "source": [
    "## Problem 8"
   ]
  },
  {
   "cell_type": "code",
   "execution_count": 47,
   "id": "eff7fe68",
   "metadata": {},
   "outputs": [
    {
     "name": "stderr",
     "output_type": "stream",
     "text": [
      "/Users/apple/opt/anaconda3/lib/python3.8/site-packages/seaborn/_decorators.py:36: FutureWarning:\n",
      "\n",
      "Pass the following variables as keyword args: x, y. From version 0.12, the only valid positional argument will be `data`, and passing other arguments without an explicit keyword will result in an error or misinterpretation.\n",
      "\n"
     ]
    },
    {
     "data": {
      "image/png": "[encoded data removed]",
      "text/plain": [
       "<Figure size 720x432 with 1 Axes>"
      ]
     },
     "metadata": {
      "needs_background": "light"
     },
     "output_type": "display_data"
    }
   ],
   "source": [
    "plt.figure(figsize=(10,6))\n",
    "sns.boxplot(data_salary.income, \n",
    "           data_salary.age,\n",
    "           orient='v')\n",
    "\n",
    "plt.title(\"Relationship btw income and age\")\n",
    "plt.show()"
   ]
  },
  {
   "cell_type": "code",
   "execution_count": 48,
   "id": "9db1f31d",
   "metadata": {},
   "outputs": [
    {
     "name": "stderr",
     "output_type": "stream",
     "text": [
      "/Users/apple/opt/anaconda3/lib/python3.8/site-packages/seaborn/_decorators.py:36: FutureWarning:\n",
      "\n",
      "Pass the following variable as a keyword arg: x. From version 0.12, the only valid positional argument will be `data`, and passing other arguments without an explicit keyword will result in an error or misinterpretation.\n",
      "\n"
     ]
    },
    {
     "data": {
      "image/png": "[encoded data removed]",
      "text/plain": [
       "<Figure size 720x432 with 1 Axes>"
      ]
     },
     "metadata": {
      "needs_background": "light"
     },
     "output_type": "display_data"
    }
   ],
   "source": [
    "plt.figure(figsize=(10,6))\n",
    "sns.countplot(data_salary.Geder, hue=data_salary['income'], color='#3832a8')\n",
    "\n",
    "plt.xlabel('Geder')\n",
    "plt.ylabel('Income')\n",
    "plt.title('Relationship btw income and gender')\n",
    "plt.show()"
   ]
  },
  {
   "cell_type": "code",
   "execution_count": 50,
   "id": "8a4b661b",
   "metadata": {},
   "outputs": [
    {
     "name": "stderr",
     "output_type": "stream",
     "text": [
      "/Users/apple/opt/anaconda3/lib/python3.8/site-packages/seaborn/_decorators.py:36: FutureWarning:\n",
      "\n",
      "Pass the following variable as a keyword arg: x. From version 0.12, the only valid positional argument will be `data`, and passing other arguments without an explicit keyword will result in an error or misinterpretation.\n",
      "\n"
     ]
    },
    {
     "data": {
      "image/png": "[encoded data removed]",
      "text/plain": [
       "<Figure size 720x432 with 1 Axes>"
      ]
     },
     "metadata": {
      "needs_background": "light"
     },
     "output_type": "display_data"
    }
   ],
   "source": [
    "plt.figure(figsize=(10,6))\n",
    "sns.countplot(data_salary.race, hue=data_salary['income'], color='#3832a8')\n",
    "\n",
    "plt.xlabel('race')\n",
    "plt.ylabel('Income')\n",
    "plt.title('Relationship btw income and race')\n",
    "plt.show()"
   ]
  },
  {
   "cell_type": "code",
   "execution_count": 52,
   "id": "e4194489",
   "metadata": {},
   "outputs": [],
   "source": [
    "data_salary=data_salary.rename({'hours.per.week':'hours'},axis=1)"
   ]
  },
  {
   "cell_type": "code",
   "execution_count": 55,
   "id": "d082cc59",
   "metadata": {},
   "outputs": [
    {
     "name": "stderr",
     "output_type": "stream",
     "text": [
      "/Users/apple/opt/anaconda3/lib/python3.8/site-packages/seaborn/_decorators.py:36: FutureWarning:\n",
      "\n",
      "Pass the following variables as keyword args: x, y. From version 0.12, the only valid positional argument will be `data`, and passing other arguments without an explicit keyword will result in an error or misinterpretation.\n",
      "\n"
     ]
    },
    {
     "data": {
      "image/png": "[encoded data removed]",
      "text/plain": [
       "<Figure size 720x432 with 1 Axes>"
      ]
     },
     "metadata": {},
     "output_type": "display_data"
    }
   ],
   "source": [
    "plt.figure(figsize=(10,6)) #figure size\n",
    "\n",
    "sns.set_style('darkgrid') #setting style for the charts\n",
    "\n",
    "sns.scatterplot(data_salary.hours, #X-axis values\n",
    "            data_salary.age #Y-axis values\n",
    "               )\n",
    "plt.title(\"Relationship btw hours per week and age\")\n",
    "plt.show()"
   ]
  },
  {
   "cell_type": "code",
   "execution_count": 56,
   "id": "45290dcb",
   "metadata": {},
   "outputs": [
    {
     "name": "stderr",
     "output_type": "stream",
     "text": [
      "/Users/apple/opt/anaconda3/lib/python3.8/site-packages/seaborn/_decorators.py:36: FutureWarning:\n",
      "\n",
      "Pass the following variable as a keyword arg: x. From version 0.12, the only valid positional argument will be `data`, and passing other arguments without an explicit keyword will result in an error or misinterpretation.\n",
      "\n"
     ]
    },
    {
     "data": {
      "image/png": "[encoded data removed]",
      "text/plain": [
       "<Figure size 720x432 with 1 Axes>"
      ]
     },
     "metadata": {},
     "output_type": "display_data"
    }
   ],
   "source": [
    "plt.figure(figsize=(10,6))\n",
    "sns.countplot(data_salary.hours, hue=data_salary['income'], color='#3832a8')\n",
    "\n",
    "plt.xlabel('hours')\n",
    "plt.ylabel('Income')\n",
    "plt.title('Relationship btw income and hours')\n",
    "plt.show()"
   ]
  },
  {
   "cell_type": "markdown",
   "id": "a9cbdade",
   "metadata": {},
   "source": [
    "## Problem 9"
   ]
  },
  {
   "cell_type": "code",
   "execution_count": 57,
   "id": "c01b57e6",
   "metadata": {},
   "outputs": [
    {
     "data": {
      "image/png": "[encoded data removed]",
      "text/plain": [
       "<Figure size 432x288 with 1 Axes>"
      ]
     },
     "metadata": {},
     "output_type": "display_data"
    },
    {
     "data": {
      "image/png": "[encoded data removed]",
      "text/plain": [
       "<Figure size 432x288 with 1 Axes>"
      ]
     },
     "metadata": {},
     "output_type": "display_data"
    },
    {
     "data": {
      "image/png": "[encoded data removed]",
      "text/plain": [
       "<Figure size 432x288 with 1 Axes>"
      ]
     },
     "metadata": {},
     "output_type": "display_data"
    }
   ],
   "source": [
    "#printing histograms for all numeric variables by using for loop\n",
    "for i in data_numeric.columns:\n",
    "    plt.hist(data_numeric[i],\n",
    "         color='#0f732a',\n",
    "         bins=25\n",
    "        )\n",
    "    plt.title(f\"Distribution of {i}\")\n",
    "    plt.show()"
   ]
  },
  {
   "cell_type": "markdown",
   "id": "38fe6356",
   "metadata": {},
   "source": [
    "## Problem 10"
   ]
  },
  {
   "cell_type": "markdown",
   "id": "211fbfa1",
   "metadata": {},
   "source": [
    "**From the figures that we got, we can see that people within the age 35+ earn more, than those who are under 35. There are more males that earn higher salaries than females. The last figure shows that those people who work more hours, earn higher salaries.**"
   ]
  },
  {
   "cell_type": "markdown",
   "id": "b6bc4e96",
   "metadata": {},
   "source": [
    "## Problem 11"
   ]
  },
  {
   "cell_type": "code",
   "execution_count": 58,
   "id": "60d4f0f6",
   "metadata": {},
   "outputs": [],
   "source": [
    "data_dis=data.DataReader(name='DIS', #ticker of staock\n",
    "                        data_source='yahoo', #source of data, for example 'fred' is another data source\n",
    "                        start='2008-01-01', end='2021-01-01', #time period\n",
    "                        pause=1 # to puase some time in seconds after each request to Yahoo, in order not to get blocked\n",
    "                        )"
   ]
  },
  {
   "cell_type": "code",
   "execution_count": 59,
   "id": "3d7b1e16",
   "metadata": {},
   "outputs": [],
   "source": [
    "data_dis=data.DataReader(name='MCD', #ticker of staock\n",
    "                        data_source='yahoo', #source of data, for example 'fred' is another data source\n",
    "                        start='2008-01-01', end='2021-01-01', #time period\n",
    "                        pause=1 # to puase some time in seconds after each request to Yahoo, in order not to get blocked\n",
    "                        )"
   ]
  },
  {
   "cell_type": "code",
   "execution_count": 60,
   "id": "7d917d75",
   "metadata": {},
   "outputs": [],
   "source": [
    "data_dis=data.DataReader(name='NOK', #ticker of staock\n",
    "                        data_source='yahoo', #source of data, for example 'fred' is another data source\n",
    "                        start='2008-01-01', end='2021-01-01', #time period\n",
    "                        pause=1 # to puase some time in seconds after each request to Yahoo, in order not to get blocked\n",
    "                        )"
   ]
  },
  {
   "cell_type": "code",
   "execution_count": 61,
   "id": "d19890ed",
   "metadata": {},
   "outputs": [],
   "source": [
    "data_dis=data.DataReader(name='PICK', #ticker of staock\n",
    "                        data_source='yahoo', #source of data, for example 'fred' is another data source\n",
    "                        start='2008-01-01', end='2021-01-01', #time period\n",
    "                        pause=1 # to puase some time in seconds after each request to Yahoo, in order not to get blocked\n",
    "                        )"
   ]
  },
  {
   "cell_type": "code",
   "execution_count": 63,
   "id": "2a73f6d7",
   "metadata": {},
   "outputs": [],
   "source": [
    "data_dis=data.DataReader(name='MSFT', #ticker of staock\n",
    "                        data_source='yahoo', #source of data, for example 'fred' is another data source\n",
    "                        start='2008-01-01', end='2021-01-01', #time period\n",
    "                        pause=1 # to puase some time in seconds after each request to Yahoo, in order not to get blocked\n",
    "                        )"
   ]
  },
  {
   "cell_type": "markdown",
   "id": "e7396566",
   "metadata": {},
   "source": [
    "## Problem 12"
   ]
  },
  {
   "cell_type": "code",
   "execution_count": 69,
   "id": "a057cec7",
   "metadata": {},
   "outputs": [],
   "source": [
    "tickers=['NOK','MSFT','DIS','MCD','PICK']"
   ]
  },
  {
   "cell_type": "code",
   "execution_count": 70,
   "id": "e55cfa63",
   "metadata": {},
   "outputs": [],
   "source": [
    "data_stocks=data.DataReader(name=tickers,\n",
    "                           data_source='yahoo',\n",
    "                           start='2008-01-01',\n",
    "                           end='2021-01-01',\n",
    "                           pause=0.1\n",
    "                           )"
   ]
  },
  {
   "cell_type": "code",
   "execution_count": 76,
   "id": "916edd9d",
   "metadata": {},
   "outputs": [
    {
     "data": {
      "text/html": [
       "<div>\n",
       "<style scoped>\n",
       "    .dataframe tbody tr th:only-of-type {\n",
       "        vertical-align: middle;\n",
       "    }\n",
       "\n",
       "    .dataframe tbody tr th {\n",
       "        vertical-align: top;\n",
       "    }\n",
       "\n",
       "    .dataframe thead tr th {\n",
       "        text-align: left;\n",
       "    }\n",
       "\n",
       "    .dataframe thead tr:last-of-type th {\n",
       "        text-align: right;\n",
       "    }\n",
       "</style>\n",
       "<table border=\"1\" class=\"dataframe\">\n",
       "  <thead>\n",
       "    <tr>\n",
       "      <th>Attributes</th>\n",
       "      <th colspan=\"5\" halign=\"left\">Adj Close</th>\n",
       "      <th colspan=\"5\" halign=\"left\">Close</th>\n",
       "      <th>...</th>\n",
       "      <th colspan=\"5\" halign=\"left\">Open</th>\n",
       "      <th colspan=\"5\" halign=\"left\">Volume</th>\n",
       "    </tr>\n",
       "    <tr>\n",
       "      <th>Symbols</th>\n",
       "      <th>NOK</th>\n",
       "      <th>MSFT</th>\n",
       "      <th>DIS</th>\n",
       "      <th>MCD</th>\n",
       "      <th>PICK</th>\n",
       "      <th>NOK</th>\n",
       "      <th>MSFT</th>\n",
       "      <th>DIS</th>\n",
       "      <th>MCD</th>\n",
       "      <th>PICK</th>\n",
       "      <th>...</th>\n",
       "      <th>NOK</th>\n",
       "      <th>MSFT</th>\n",
       "      <th>DIS</th>\n",
       "      <th>MCD</th>\n",
       "      <th>PICK</th>\n",
       "      <th>NOK</th>\n",
       "      <th>MSFT</th>\n",
       "      <th>DIS</th>\n",
       "      <th>MCD</th>\n",
       "      <th>PICK</th>\n",
       "    </tr>\n",
       "    <tr>\n",
       "      <th>Date</th>\n",
       "      <th></th>\n",
       "      <th></th>\n",
       "      <th></th>\n",
       "      <th></th>\n",
       "      <th></th>\n",
       "      <th></th>\n",
       "      <th></th>\n",
       "      <th></th>\n",
       "      <th></th>\n",
       "      <th></th>\n",
       "      <th></th>\n",
       "      <th></th>\n",
       "      <th></th>\n",
       "      <th></th>\n",
       "      <th></th>\n",
       "      <th></th>\n",
       "      <th></th>\n",
       "      <th></th>\n",
       "      <th></th>\n",
       "      <th></th>\n",
       "      <th></th>\n",
       "    </tr>\n",
       "  </thead>\n",
       "  <tbody>\n",
       "    <tr>\n",
       "      <th>2008-01-02</th>\n",
       "      <td>23.142698</td>\n",
       "      <td>26.195889</td>\n",
       "      <td>27.012505</td>\n",
       "      <td>39.046745</td>\n",
       "      <td>NaN</td>\n",
       "      <td>37.400002</td>\n",
       "      <td>35.220001</td>\n",
       "      <td>31.840000</td>\n",
       "      <td>58.099998</td>\n",
       "      <td>NaN</td>\n",
       "      <td>...</td>\n",
       "      <td>38.340000</td>\n",
       "      <td>35.790001</td>\n",
       "      <td>32.320000</td>\n",
       "      <td>59.480000</td>\n",
       "      <td>NaN</td>\n",
       "      <td>11473900.0</td>\n",
       "      <td>63004200.0</td>\n",
       "      <td>9269900.0</td>\n",
       "      <td>7858300.0</td>\n",
       "      <td>NaN</td>\n",
       "    </tr>\n",
       "    <tr>\n",
       "      <th>2008-01-03</th>\n",
       "      <td>23.600601</td>\n",
       "      <td>26.307467</td>\n",
       "      <td>26.953121</td>\n",
       "      <td>38.932507</td>\n",
       "      <td>NaN</td>\n",
       "      <td>38.139999</td>\n",
       "      <td>35.369999</td>\n",
       "      <td>31.770000</td>\n",
       "      <td>57.930000</td>\n",
       "      <td>NaN</td>\n",
       "      <td>...</td>\n",
       "      <td>38.090000</td>\n",
       "      <td>35.220001</td>\n",
       "      <td>31.879999</td>\n",
       "      <td>58.400002</td>\n",
       "      <td>NaN</td>\n",
       "      <td>9791200.0</td>\n",
       "      <td>49599600.0</td>\n",
       "      <td>9681100.0</td>\n",
       "      <td>6514700.0</td>\n",
       "      <td>NaN</td>\n",
       "    </tr>\n",
       "    <tr>\n",
       "      <th>2008-01-04</th>\n",
       "      <td>22.264019</td>\n",
       "      <td>25.571117</td>\n",
       "      <td>26.410151</td>\n",
       "      <td>38.341091</td>\n",
       "      <td>NaN</td>\n",
       "      <td>35.980000</td>\n",
       "      <td>34.380001</td>\n",
       "      <td>31.129999</td>\n",
       "      <td>57.049999</td>\n",
       "      <td>NaN</td>\n",
       "      <td>...</td>\n",
       "      <td>37.189999</td>\n",
       "      <td>35.189999</td>\n",
       "      <td>31.000000</td>\n",
       "      <td>57.330002</td>\n",
       "      <td>NaN</td>\n",
       "      <td>15597700.0</td>\n",
       "      <td>72090800.0</td>\n",
       "      <td>9550700.0</td>\n",
       "      <td>9687500.0</td>\n",
       "      <td>NaN</td>\n",
       "    </tr>\n",
       "    <tr>\n",
       "      <th>2008-01-07</th>\n",
       "      <td>21.459595</td>\n",
       "      <td>25.742189</td>\n",
       "      <td>26.435602</td>\n",
       "      <td>38.999710</td>\n",
       "      <td>NaN</td>\n",
       "      <td>34.680000</td>\n",
       "      <td>34.610001</td>\n",
       "      <td>31.160000</td>\n",
       "      <td>58.029999</td>\n",
       "      <td>NaN</td>\n",
       "      <td>...</td>\n",
       "      <td>36.139999</td>\n",
       "      <td>34.549999</td>\n",
       "      <td>31.379999</td>\n",
       "      <td>57.360001</td>\n",
       "      <td>NaN</td>\n",
       "      <td>18557000.0</td>\n",
       "      <td>80164300.0</td>\n",
       "      <td>10742900.0</td>\n",
       "      <td>10784500.0</td>\n",
       "      <td>NaN</td>\n",
       "    </tr>\n",
       "    <tr>\n",
       "      <th>2008-01-08</th>\n",
       "      <td>21.212078</td>\n",
       "      <td>24.879400</td>\n",
       "      <td>25.909611</td>\n",
       "      <td>38.361263</td>\n",
       "      <td>NaN</td>\n",
       "      <td>34.279999</td>\n",
       "      <td>33.450001</td>\n",
       "      <td>30.540001</td>\n",
       "      <td>57.080002</td>\n",
       "      <td>NaN</td>\n",
       "      <td>...</td>\n",
       "      <td>35.480000</td>\n",
       "      <td>34.709999</td>\n",
       "      <td>31.250000</td>\n",
       "      <td>58.439999</td>\n",
       "      <td>NaN</td>\n",
       "      <td>18097200.0</td>\n",
       "      <td>79148300.0</td>\n",
       "      <td>13014300.0</td>\n",
       "      <td>10080800.0</td>\n",
       "      <td>NaN</td>\n",
       "    </tr>\n",
       "  </tbody>\n",
       "</table>\n",
       "<p>5 rows × 30 columns</p>\n",
       "</div>"
      ],
      "text/plain": [
       "Attributes  Adj Close                                            Close  \\\n",
       "Symbols           NOK       MSFT        DIS        MCD PICK        NOK   \n",
       "Date                                                                     \n",
       "2008-01-02  23.142698  26.195889  27.012505  39.046745  NaN  37.400002   \n",
       "2008-01-03  23.600601  26.307467  26.953121  38.932507  NaN  38.139999   \n",
       "2008-01-04  22.264019  25.571117  26.410151  38.341091  NaN  35.980000   \n",
       "2008-01-07  21.459595  25.742189  26.435602  38.999710  NaN  34.680000   \n",
       "2008-01-08  21.212078  24.879400  25.909611  38.361263  NaN  34.279999   \n",
       "\n",
       "Attributes                                        ...       Open             \\\n",
       "Symbols          MSFT        DIS        MCD PICK  ...        NOK       MSFT   \n",
       "Date                                              ...                         \n",
       "2008-01-02  35.220001  31.840000  58.099998  NaN  ...  38.340000  35.790001   \n",
       "2008-01-03  35.369999  31.770000  57.930000  NaN  ...  38.090000  35.220001   \n",
       "2008-01-04  34.380001  31.129999  57.049999  NaN  ...  37.189999  35.189999   \n",
       "2008-01-07  34.610001  31.160000  58.029999  NaN  ...  36.139999  34.549999   \n",
       "2008-01-08  33.450001  30.540001  57.080002  NaN  ...  35.480000  34.709999   \n",
       "\n",
       "Attributes                                 Volume                          \\\n",
       "Symbols           DIS        MCD PICK         NOK        MSFT         DIS   \n",
       "Date                                                                        \n",
       "2008-01-02  32.320000  59.480000  NaN  11473900.0  63004200.0   9269900.0   \n",
       "2008-01-03  31.879999  58.400002  NaN   9791200.0  49599600.0   9681100.0   \n",
       "2008-01-04  31.000000  57.330002  NaN  15597700.0  72090800.0   9550700.0   \n",
       "2008-01-07  31.379999  57.360001  NaN  18557000.0  80164300.0  10742900.0   \n",
       "2008-01-08  31.250000  58.439999  NaN  18097200.0  79148300.0  13014300.0   \n",
       "\n",
       "Attributes                   \n",
       "Symbols            MCD PICK  \n",
       "Date                         \n",
       "2008-01-02   7858300.0  NaN  \n",
       "2008-01-03   6514700.0  NaN  \n",
       "2008-01-04   9687500.0  NaN  \n",
       "2008-01-07  10784500.0  NaN  \n",
       "2008-01-08  10080800.0  NaN  \n",
       "\n",
       "[5 rows x 30 columns]"
      ]
     },
     "execution_count": 76,
     "metadata": {},
     "output_type": "execute_result"
    }
   ],
   "source": [
    "data_stocks.head()"
   ]
  },
  {
   "cell_type": "code",
   "execution_count": 77,
   "id": "00169fcf",
   "metadata": {},
   "outputs": [],
   "source": [
    "data_stocks.columns=data_stocks.columns.map('_'.join)"
   ]
  },
  {
   "cell_type": "code",
   "execution_count": 78,
   "id": "144808a9",
   "metadata": {},
   "outputs": [
    {
     "data": {
      "text/html": [
       "<div>\n",
       "<style scoped>\n",
       "    .dataframe tbody tr th:only-of-type {\n",
       "        vertical-align: middle;\n",
       "    }\n",
       "\n",
       "    .dataframe tbody tr th {\n",
       "        vertical-align: top;\n",
       "    }\n",
       "\n",
       "    .dataframe thead th {\n",
       "        text-align: right;\n",
       "    }\n",
       "</style>\n",
       "<table border=\"1\" class=\"dataframe\">\n",
       "  <thead>\n",
       "    <tr style=\"text-align: right;\">\n",
       "      <th></th>\n",
       "      <th>Adj Close_NOK</th>\n",
       "      <th>Adj Close_MSFT</th>\n",
       "      <th>Adj Close_DIS</th>\n",
       "      <th>Adj Close_MCD</th>\n",
       "      <th>Adj Close_PICK</th>\n",
       "      <th>Close_NOK</th>\n",
       "      <th>Close_MSFT</th>\n",
       "      <th>Close_DIS</th>\n",
       "      <th>Close_MCD</th>\n",
       "      <th>Close_PICK</th>\n",
       "      <th>...</th>\n",
       "      <th>Open_NOK</th>\n",
       "      <th>Open_MSFT</th>\n",
       "      <th>Open_DIS</th>\n",
       "      <th>Open_MCD</th>\n",
       "      <th>Open_PICK</th>\n",
       "      <th>Volume_NOK</th>\n",
       "      <th>Volume_MSFT</th>\n",
       "      <th>Volume_DIS</th>\n",
       "      <th>Volume_MCD</th>\n",
       "      <th>Volume_PICK</th>\n",
       "    </tr>\n",
       "    <tr>\n",
       "      <th>Date</th>\n",
       "      <th></th>\n",
       "      <th></th>\n",
       "      <th></th>\n",
       "      <th></th>\n",
       "      <th></th>\n",
       "      <th></th>\n",
       "      <th></th>\n",
       "      <th></th>\n",
       "      <th></th>\n",
       "      <th></th>\n",
       "      <th></th>\n",
       "      <th></th>\n",
       "      <th></th>\n",
       "      <th></th>\n",
       "      <th></th>\n",
       "      <th></th>\n",
       "      <th></th>\n",
       "      <th></th>\n",
       "      <th></th>\n",
       "      <th></th>\n",
       "      <th></th>\n",
       "    </tr>\n",
       "  </thead>\n",
       "  <tbody>\n",
       "    <tr>\n",
       "      <th>2008-01-02</th>\n",
       "      <td>23.142698</td>\n",
       "      <td>26.195889</td>\n",
       "      <td>27.012505</td>\n",
       "      <td>39.046745</td>\n",
       "      <td>NaN</td>\n",
       "      <td>37.400002</td>\n",
       "      <td>35.220001</td>\n",
       "      <td>31.840000</td>\n",
       "      <td>58.099998</td>\n",
       "      <td>NaN</td>\n",
       "      <td>...</td>\n",
       "      <td>38.340000</td>\n",
       "      <td>35.790001</td>\n",
       "      <td>32.320000</td>\n",
       "      <td>59.480000</td>\n",
       "      <td>NaN</td>\n",
       "      <td>11473900.0</td>\n",
       "      <td>63004200.0</td>\n",
       "      <td>9269900.0</td>\n",
       "      <td>7858300.0</td>\n",
       "      <td>NaN</td>\n",
       "    </tr>\n",
       "    <tr>\n",
       "      <th>2008-01-03</th>\n",
       "      <td>23.600601</td>\n",
       "      <td>26.307467</td>\n",
       "      <td>26.953121</td>\n",
       "      <td>38.932507</td>\n",
       "      <td>NaN</td>\n",
       "      <td>38.139999</td>\n",
       "      <td>35.369999</td>\n",
       "      <td>31.770000</td>\n",
       "      <td>57.930000</td>\n",
       "      <td>NaN</td>\n",
       "      <td>...</td>\n",
       "      <td>38.090000</td>\n",
       "      <td>35.220001</td>\n",
       "      <td>31.879999</td>\n",
       "      <td>58.400002</td>\n",
       "      <td>NaN</td>\n",
       "      <td>9791200.0</td>\n",
       "      <td>49599600.0</td>\n",
       "      <td>9681100.0</td>\n",
       "      <td>6514700.0</td>\n",
       "      <td>NaN</td>\n",
       "    </tr>\n",
       "    <tr>\n",
       "      <th>2008-01-04</th>\n",
       "      <td>22.264019</td>\n",
       "      <td>25.571117</td>\n",
       "      <td>26.410151</td>\n",
       "      <td>38.341091</td>\n",
       "      <td>NaN</td>\n",
       "      <td>35.980000</td>\n",
       "      <td>34.380001</td>\n",
       "      <td>31.129999</td>\n",
       "      <td>57.049999</td>\n",
       "      <td>NaN</td>\n",
       "      <td>...</td>\n",
       "      <td>37.189999</td>\n",
       "      <td>35.189999</td>\n",
       "      <td>31.000000</td>\n",
       "      <td>57.330002</td>\n",
       "      <td>NaN</td>\n",
       "      <td>15597700.0</td>\n",
       "      <td>72090800.0</td>\n",
       "      <td>9550700.0</td>\n",
       "      <td>9687500.0</td>\n",
       "      <td>NaN</td>\n",
       "    </tr>\n",
       "    <tr>\n",
       "      <th>2008-01-07</th>\n",
       "      <td>21.459595</td>\n",
       "      <td>25.742189</td>\n",
       "      <td>26.435602</td>\n",
       "      <td>38.999710</td>\n",
       "      <td>NaN</td>\n",
       "      <td>34.680000</td>\n",
       "      <td>34.610001</td>\n",
       "      <td>31.160000</td>\n",
       "      <td>58.029999</td>\n",
       "      <td>NaN</td>\n",
       "      <td>...</td>\n",
       "      <td>36.139999</td>\n",
       "      <td>34.549999</td>\n",
       "      <td>31.379999</td>\n",
       "      <td>57.360001</td>\n",
       "      <td>NaN</td>\n",
       "      <td>18557000.0</td>\n",
       "      <td>80164300.0</td>\n",
       "      <td>10742900.0</td>\n",
       "      <td>10784500.0</td>\n",
       "      <td>NaN</td>\n",
       "    </tr>\n",
       "    <tr>\n",
       "      <th>2008-01-08</th>\n",
       "      <td>21.212078</td>\n",
       "      <td>24.879400</td>\n",
       "      <td>25.909611</td>\n",
       "      <td>38.361263</td>\n",
       "      <td>NaN</td>\n",
       "      <td>34.279999</td>\n",
       "      <td>33.450001</td>\n",
       "      <td>30.540001</td>\n",
       "      <td>57.080002</td>\n",
       "      <td>NaN</td>\n",
       "      <td>...</td>\n",
       "      <td>35.480000</td>\n",
       "      <td>34.709999</td>\n",
       "      <td>31.250000</td>\n",
       "      <td>58.439999</td>\n",
       "      <td>NaN</td>\n",
       "      <td>18097200.0</td>\n",
       "      <td>79148300.0</td>\n",
       "      <td>13014300.0</td>\n",
       "      <td>10080800.0</td>\n",
       "      <td>NaN</td>\n",
       "    </tr>\n",
       "  </tbody>\n",
       "</table>\n",
       "<p>5 rows × 30 columns</p>\n",
       "</div>"
      ],
      "text/plain": [
       "            Adj Close_NOK  Adj Close_MSFT  Adj Close_DIS  Adj Close_MCD  \\\n",
       "Date                                                                      \n",
       "2008-01-02      23.142698       26.195889      27.012505      39.046745   \n",
       "2008-01-03      23.600601       26.307467      26.953121      38.932507   \n",
       "2008-01-04      22.264019       25.571117      26.410151      38.341091   \n",
       "2008-01-07      21.459595       25.742189      26.435602      38.999710   \n",
       "2008-01-08      21.212078       24.879400      25.909611      38.361263   \n",
       "\n",
       "            Adj Close_PICK  Close_NOK  Close_MSFT  Close_DIS  Close_MCD  \\\n",
       "Date                                                                      \n",
       "2008-01-02             NaN  37.400002   35.220001  31.840000  58.099998   \n",
       "2008-01-03             NaN  38.139999   35.369999  31.770000  57.930000   \n",
       "2008-01-04             NaN  35.980000   34.380001  31.129999  57.049999   \n",
       "2008-01-07             NaN  34.680000   34.610001  31.160000  58.029999   \n",
       "2008-01-08             NaN  34.279999   33.450001  30.540001  57.080002   \n",
       "\n",
       "            Close_PICK  ...   Open_NOK  Open_MSFT   Open_DIS   Open_MCD  \\\n",
       "Date                    ...                                               \n",
       "2008-01-02         NaN  ...  38.340000  35.790001  32.320000  59.480000   \n",
       "2008-01-03         NaN  ...  38.090000  35.220001  31.879999  58.400002   \n",
       "2008-01-04         NaN  ...  37.189999  35.189999  31.000000  57.330002   \n",
       "2008-01-07         NaN  ...  36.139999  34.549999  31.379999  57.360001   \n",
       "2008-01-08         NaN  ...  35.480000  34.709999  31.250000  58.439999   \n",
       "\n",
       "            Open_PICK  Volume_NOK  Volume_MSFT  Volume_DIS  Volume_MCD  \\\n",
       "Date                                                                     \n",
       "2008-01-02        NaN  11473900.0   63004200.0   9269900.0   7858300.0   \n",
       "2008-01-03        NaN   9791200.0   49599600.0   9681100.0   6514700.0   \n",
       "2008-01-04        NaN  15597700.0   72090800.0   9550700.0   9687500.0   \n",
       "2008-01-07        NaN  18557000.0   80164300.0  10742900.0  10784500.0   \n",
       "2008-01-08        NaN  18097200.0   79148300.0  13014300.0  10080800.0   \n",
       "\n",
       "            Volume_PICK  \n",
       "Date                     \n",
       "2008-01-02          NaN  \n",
       "2008-01-03          NaN  \n",
       "2008-01-04          NaN  \n",
       "2008-01-07          NaN  \n",
       "2008-01-08          NaN  \n",
       "\n",
       "[5 rows x 30 columns]"
      ]
     },
     "execution_count": 78,
     "metadata": {},
     "output_type": "execute_result"
    }
   ],
   "source": [
    "data_stocks.head()"
   ]
  },
  {
   "cell_type": "code",
   "execution_count": 2,
   "id": "cfa3c9ec",
   "metadata": {},
   "outputs": [
    {
     "ename": "NameError",
     "evalue": "name 'go' is not defined",
     "output_type": "error",
     "traceback": [
      "\u001b[0;31m---------------------------------------------------------------------------\u001b[0m",
      "\u001b[0;31mNameError\u001b[0m                                 Traceback (most recent call last)",
      "\u001b[0;32m<ipython-input-2-95379d8a0b97>\u001b[0m in \u001b[0;36m<module>\u001b[0;34m\u001b[0m\n\u001b[1;32m      1\u001b[0m \u001b[0;31m#interactive chart of Close prices for stocks\u001b[0m\u001b[0;34m\u001b[0m\u001b[0;34m\u001b[0m\u001b[0;34m\u001b[0m\u001b[0m\n\u001b[0;32m----> 2\u001b[0;31m \u001b[0mfig\u001b[0m\u001b[0;34m=\u001b[0m\u001b[0mgo\u001b[0m\u001b[0;34m.\u001b[0m\u001b[0mFigure\u001b[0m\u001b[0;34m(\u001b[0m\u001b[0;34m)\u001b[0m\u001b[0;34m\u001b[0m\u001b[0;34m\u001b[0m\u001b[0m\n\u001b[0m\u001b[1;32m      3\u001b[0m \u001b[0;34m\u001b[0m\u001b[0m\n\u001b[1;32m      4\u001b[0m fig.add_trace(go.Scatter(x=data_stocks.index,\n\u001b[1;32m      5\u001b[0m                         \u001b[0my\u001b[0m\u001b[0;34m=\u001b[0m\u001b[0mdata_stocks\u001b[0m\u001b[0;34m.\u001b[0m\u001b[0mClose_NOK\u001b[0m\u001b[0;34m,\u001b[0m\u001b[0;34m\u001b[0m\u001b[0;34m\u001b[0m\u001b[0m\n",
      "\u001b[0;31mNameError\u001b[0m: name 'go' is not defined"
     ]
    }
   ],
   "source": [
    "#interactive chart of Close prices for stocks\n",
    "fig=go.Figure()\n",
    "\n",
    "fig.add_trace(go.Scatter(x=data_stocks.index,\n",
    "                        y=data_stocks.Close_NOK,\n",
    "                        mode='lines',\n",
    "                        name='Close Price of NOK'))\n",
    "fig.add_trace(go.Scatter(x=data_stocks.index,\n",
    "                        y=data_stocks.Close_DIS,\n",
    "                        mode='lines',\n",
    "                        name='Close Price of DIS'))\n",
    "\n",
    "fig.add_trace(go.Scatter(x=data_stocks.index,\n",
    "                        y=data_stocks.Close_MSFT,\n",
    "                        mode='lines',\n",
    "                        name='Close Price of MSFT'))\n",
    "fig.add_trace(go.Scatter(x=data_stocks.index,\n",
    "                        y=data_stocks.Close_MCD,\n",
    "                        mode='lines',\n",
    "                        name='Close Price of MCD'))\n",
    "fig.add_trace(go.Scatter(x=data_stocks.index,\n",
    "                        y=data_stocks.Close_PICK,\n",
    "                        mode='lines',\n",
    "                        name='Close Price of PICK'))\n",
    "\n",
    "\n",
    "fig.update_layout(title='Comparison of Close Prices Between Stocks')\n",
    "\n",
    "fig.show()"
   ]
  },
  {
   "cell_type": "markdown",
   "id": "62f55b1e",
   "metadata": {},
   "source": [
    "## Problem 13"
   ]
  },
  {
   "cell_type": "code",
   "execution_count": 1,
   "id": "6d351a75",
   "metadata": {},
   "outputs": [
    {
     "ename": "NameError",
     "evalue": "name 'data_salary' is not defined",
     "output_type": "error",
     "traceback": [
      "\u001b[0;31m---------------------------------------------------------------------------\u001b[0m",
      "\u001b[0;31mNameError\u001b[0m                                 Traceback (most recent call last)",
      "\u001b[0;32m<ipython-input-1-6b13100c22f4>\u001b[0m in \u001b[0;36m<module>\u001b[0;34m\u001b[0m\n\u001b[0;32m----> 1\u001b[0;31m \u001b[0mdata_num\u001b[0m\u001b[0;34m=\u001b[0m\u001b[0mdata_salary\u001b[0m\u001b[0;34m.\u001b[0m\u001b[0mselect_dtypes\u001b[0m\u001b[0;34m(\u001b[0m\u001b[0mexclude\u001b[0m\u001b[0;34m=\u001b[0m\u001b[0;34m[\u001b[0m\u001b[0;34m'object'\u001b[0m\u001b[0;34m]\u001b[0m\u001b[0;34m)\u001b[0m\u001b[0;34m\u001b[0m\u001b[0;34m\u001b[0m\u001b[0m\n\u001b[0m",
      "\u001b[0;31mNameError\u001b[0m: name 'data_salary' is not defined"
     ]
    }
   ],
   "source": [
    "data_num=data_salary.select_dtypes(exclude=['object'])"
   ]
  },
  {
   "cell_type": "code",
   "execution_count": 4,
   "id": "38922da5",
   "metadata": {},
   "outputs": [
    {
     "ename": "NameError",
     "evalue": "name 'data_num' is not defined",
     "output_type": "error",
     "traceback": [
      "\u001b[0;31m---------------------------------------------------------------------------\u001b[0m",
      "\u001b[0;31mNameError\u001b[0m                                 Traceback (most recent call last)",
      "\u001b[0;32m<ipython-input-4-4af7573a1c47>\u001b[0m in \u001b[0;36m<module>\u001b[0;34m\u001b[0m\n\u001b[0;32m----> 1\u001b[0;31m \u001b[0;32mfor\u001b[0m \u001b[0mi\u001b[0m \u001b[0;32min\u001b[0m \u001b[0mdata_num\u001b[0m\u001b[0;34m.\u001b[0m\u001b[0mcolumns\u001b[0m\u001b[0;34m:\u001b[0m\u001b[0;34m\u001b[0m\u001b[0;34m\u001b[0m\u001b[0m\n\u001b[0m\u001b[1;32m      2\u001b[0m     \u001b[0mfig\u001b[0m \u001b[0;34m=\u001b[0m \u001b[0mpx\u001b[0m\u001b[0;34m.\u001b[0m\u001b[0mhistogram\u001b[0m\u001b[0;34m(\u001b[0m\u001b[0mdata_frame\u001b[0m\u001b[0;34m=\u001b[0m\u001b[0mdata_num\u001b[0m\u001b[0;34m,\u001b[0m\u001b[0mx\u001b[0m\u001b[0;34m=\u001b[0m\u001b[0mi\u001b[0m\u001b[0;34m)\u001b[0m\u001b[0;34m\u001b[0m\u001b[0;34m\u001b[0m\u001b[0m\n\u001b[1;32m      3\u001b[0m     fig.update_layout(\n\u001b[1;32m      4\u001b[0m         \u001b[0mtitle\u001b[0m\u001b[0;34m=\u001b[0m\u001b[0mi\u001b[0m\u001b[0;34m,\u001b[0m\u001b[0;34m\u001b[0m\u001b[0;34m\u001b[0m\u001b[0m\n\u001b[1;32m      5\u001b[0m         \u001b[0mheight\u001b[0m\u001b[0;34m=\u001b[0m\u001b[0;36m500\u001b[0m\u001b[0;34m,\u001b[0m\u001b[0;34m\u001b[0m\u001b[0;34m\u001b[0m\u001b[0m\n",
      "\u001b[0;31mNameError\u001b[0m: name 'data_num' is not defined"
     ]
    }
   ],
   "source": [
    "for i in data_num.columns:\n",
    "    fig = px.histogram(data_frame=data_num,x=i)\n",
    "    fig.update_layout(\n",
    "        title=i,\n",
    "        height=500,\n",
    "        width=500)\n",
    "    fig.show()"
   ]
  },
  {
   "cell_type": "code",
   "execution_count": null,
   "id": "4d4c3c55",
   "metadata": {},
   "outputs": [],
   "source": []
  }
 ],
 "metadata": {
  "kernelspec": {
   "display_name": "Python 3",
   "language": "python",
   "name": "python3"
  },
  "language_info": {
   "codemirror_mode": {
    "name": "ipython",
    "version": 3
   },
   "file_extension": ".py",
   "mimetype": "text/x-python",
   "name": "python",
   "nbconvert_exporter": "python",
   "pygments_lexer": "ipython3",
   "version": "3.8.8"
  }
 },
 "nbformat": 4,
 "nbformat_minor": 5
}
